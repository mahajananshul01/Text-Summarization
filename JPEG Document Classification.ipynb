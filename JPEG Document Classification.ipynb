{
 "cells": [
  {
   "cell_type": "code",
   "execution_count": 4,
   "id": "42c34b53",
   "metadata": {},
   "outputs": [
    {
     "name": "stdout",
     "output_type": "stream",
     "text": [
      "1/1 [==============================] - 4s 4s/step\n",
      "1/1 [==============================] - 0s 177ms/step\n",
      "1/1 [==============================] - 0s 128ms/step\n",
      "1/1 [==============================] - 0s 160ms/step\n",
      "1/1 [==============================] - 0s 117ms/step\n",
      "1/1 [==============================] - 0s 99ms/step\n",
      "1/1 [==============================] - 0s 133ms/step\n",
      "1/1 [==============================] - 0s 128ms/step\n",
      "1/1 [==============================] - 0s 126ms/step\n",
      "1/1 [==============================] - 0s 104ms/step\n",
      "1/1 [==============================] - 0s 104ms/step\n",
      "1/1 [==============================] - 0s 101ms/step\n",
      "1/1 [==============================] - 0s 131ms/step\n",
      "Ultra_enhanced_8th.jpg: Similarity - 0.9334545731544495\n",
      "1/1 [==============================] - 0s 101ms/step\n",
      "Ultra_enhanced_9th.jpg: Similarity - 0.8353602290153503\n"
     ]
    }
   ],
   "source": [
    "import os\n",
    "import numpy as np\n",
    "#from keras.preprocessing import image\n",
    "from tensorflow.keras.preprocessing import image\n",
    "from keras.applications.vgg16 import preprocess_input\n",
    "from keras.applications.vgg16 import VGG16\n",
    "\n",
    "# Set the path to the directory containing your JPEG files\n",
    "image_directory = \"/folder_path\"\n",
    "\n",
    "\n",
    "# Load the pre-trained VGG16 model\n",
    "model = VGG16(weights='imagenet', include_top=False)\n",
    "\n",
    "# Function to preprocess an image for prediction\n",
    "def preprocess_image(img_path):\n",
    "    img = image.load_img(img_path, target_size=(224, 224))\n",
    "    x = image.img_to_array(img)\n",
    "    x = np.expand_dims(x, axis=0)\n",
    "    x = preprocess_input(x)\n",
    "    return x\n",
    "\n",
    "# Function to extract features from an image using VGG16\n",
    "def extract_features(img_path):\n",
    "    img = preprocess_image(img_path)\n",
    "    features = model.predict(img)\n",
    "    return features.flatten()\n",
    "\n",
    "# Function to calculate the cosine similarity between two feature vectors\n",
    "def cosine_similarity(a, b):\n",
    "    dot_product = np.dot(a, b)\n",
    "    norm_a = np.linalg.norm(a)\n",
    "    norm_b = np.linalg.norm(b)\n",
    "    similarity = dot_product / (norm_a * norm_b)\n",
    "    return similarity\n",
    "\n",
    "# Get the list of JPEG files in the directory\n",
    "files = [f for f in os.listdir(image_directory) if f.endswith('.jpg')]\n",
    "\n",
    "# Select the first 12 pages for training\n",
    "train_files = files[:12]\n",
    "\n",
    "# Extract features from the training images\n",
    "train_features = []\n",
    "for file in train_files:\n",
    "    file_path = os.path.join(image_directory, file)\n",
    "    features = extract_features(file_path)\n",
    "    train_features.append(features)\n",
    "\n",
    "# Calculate the average feature vector for training set\n",
    "avg_feature = np.mean(train_features, axis=0)\n",
    "\n",
    "# Classify the remaining 2 pages\n",
    "test_files = files[12:14]\n",
    "for file in test_files:\n",
    "    file_path = os.path.join(image_directory, file)\n",
    "    features = extract_features(file_path)\n",
    "    similarity = cosine_similarity(features, avg_feature)\n",
    "    print(f'{file}: Similarity - {similarity}')\n",
    "\n"
   ]
  }
 ],
 "metadata": {
  "kernelspec": {
   "display_name": "Python 3 (ipykernel)",
   "language": "python",
   "name": "python3"
  },
  "language_info": {
   "codemirror_mode": {
    "name": "ipython",
    "version": 3
   },
   "file_extension": ".py",
   "mimetype": "text/x-python",
   "name": "python",
   "nbconvert_exporter": "python",
   "pygments_lexer": "ipython3",
   "version": "3.10.9"
  }
 },
 "nbformat": 4,
 "nbformat_minor": 5
}
